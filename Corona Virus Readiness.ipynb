{
 "cells": [
  {
   "cell_type": "markdown",
   "metadata": {},
   "source": [
    "Issue\n",
    "\n",
    "With the corona virus crisis upon us, I would like to take this opportunity to explore the strength and weaknesses of Ontario's healthcare system. Specifically, I would like to explore the connection between people's perceived health and their accessibility to a family doctor and them receiving a flu shot. Further, I would like to produce a map of people having access to a healthcare provider for Canada, as well as people receiving flu shots, so we can extrapolate to the country on whether having these two factors would be helpful in improving perceived health."
   ]
  },
  {
   "cell_type": "markdown",
   "metadata": {},
   "source": [
    "Audience\n",
    "\n",
    "This is intended for all Canadians to know how reliable our healthcare system is in the face of epidemics."
   ]
  },
  {
   "cell_type": "markdown",
   "metadata": {},
   "source": [
    "Data\n",
    "\n",
    "Census Data: Access to healthcare provider by community, population received flue shots by regional healthcare unit\n",
    "foursquare data: Location of regions for mapping"
   ]
  },
  {
   "cell_type": "code",
   "execution_count": null,
   "metadata": {},
   "outputs": [],
   "source": []
  }
 ],
 "metadata": {
  "kernelspec": {
   "display_name": "Python",
   "language": "python",
   "name": "conda-env-python-py"
  },
  "language_info": {
   "codemirror_mode": {
    "name": "ipython",
    "version": 3
   },
   "file_extension": ".py",
   "mimetype": "text/x-python",
   "name": "python",
   "nbconvert_exporter": "python",
   "pygments_lexer": "ipython3",
   "version": "3.6.7"
  }
 },
 "nbformat": 4,
 "nbformat_minor": 4
}
